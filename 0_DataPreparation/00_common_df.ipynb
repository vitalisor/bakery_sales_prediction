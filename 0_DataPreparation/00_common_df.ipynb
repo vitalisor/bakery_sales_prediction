{
 "cells": [
  {
   "cell_type": "markdown",
   "metadata": {},
   "source": [
    "Create common Pandas Dataframe with all Data to do further analysis"
   ]
  },
  {
   "cell_type": "code",
   "execution_count": 4,
   "metadata": {},
   "outputs": [],
   "source": [
    "import pandas as pd\n",
    "\n",
    "DATA_DIR = \"/workspaces/bakery_sales_prediction/0_DataPreparation/raw-data\""
   ]
  },
  {
   "cell_type": "markdown",
   "metadata": {},
   "source": [
    "## Holidays for SH\n",
    "- Request Holidays from API\n",
    "- Combine single dataframe with the holidays"
   ]
  },
  {
   "cell_type": "code",
   "execution_count": 9,
   "metadata": {},
   "outputs": [],
   "source": [
    "all_holidays = []\n",
    "\n",
    "for year in range(2013, 2020):\n",
    "    holidays = pd.read_json(f'https://feiertage-api.de/api/?jahr={year}&nur_land=SH').T\n",
    "    for holiday_name, row in holidays.iterrows():\n",
    "        all_holidays.append({\n",
    "        'datum': row['datum'],\n",
    "        'holiday_name': holiday_name\n",
    "        })\n",
    "    \n",
    "df_holiday = pd.DataFrame(all_holidays)\n",
    "df_holiday['datum'] = pd.to_datetime(df_holiday['datum'])\n",
    "df_holiday = df_holiday.sort_values('datum')"
   ]
  },
  {
   "cell_type": "code",
   "execution_count": null,
   "metadata": {},
   "outputs": [],
   "source": [
    "# Load the CSV files\n",
    "# file1 = f'{DATA_DIR}/umsatzdaten_gekuerzt.csv'\n",
    "file2 = f'{DATA_DIR}/wetter.csv'\n",
    "file3 = f'{DATA_DIR}/kiwo.csv'\n",
    "file4 = f'{DATA_DIR}/holidays.school.sh.csv'\n",
    "file5 = f'{DATA_DIR}/holstein_kiel.csv'\n",
    "file6 = f'{DATA_DIR}/thw_kiel_heimspiel.csv'\n",
    "# umsatz = pd.read_csv(file1)\n",
    "wetter = pd.read_csv(file2, parse_dates=['Datum'])\n",
    "kiwo = pd.read_csv(file3, parse_dates=['Datum'])\n",
    "school_holidays = pd.read_csv(file4, sep=\";\", usecols=[\"StartDate\",\"EndDate\",\"Name\"], parse_dates=[\"StartDate\",\"EndDate\"])\n",
    "holstein_kiel = pd.read_csv(file5, sep=\";\", index_col=False, parse_dates=['Datum'], usecols=[\"Datum\",\"Heimspiel\"], dayfirst=True)\n",
    "thw_kiel = pd.read_csv(file6, sep=\";\", parse_dates=['Datum'], dayfirst=True)\n",
    "\n",
    "# print(wetter.info())\n",
    "# print(kiwo.info())\n",
    "# print(school_holidays.info())\n",
    "# print(holstein_kiel.info())\n",
    "# print(thw_kiel.info())\n"
   ]
  },
  {
   "cell_type": "markdown",
   "metadata": {},
   "source": [
    "Merge data sets"
   ]
  },
  {
   "cell_type": "code",
   "execution_count": null,
   "metadata": {},
   "outputs": [],
   "source": [
    "# Merge the datasets on the \"Datum\" column\n",
    "merged_df = pd.merge(umsatz, wetter, on='Datum', how='outer')\n",
    "merged_df = pd.merge(merged_df, kiwo, on='Datum', how='outer')\n",
    "\n",
    "# Display the first few rows of the merged dataframe\n",
    "merged_df.head()"
   ]
  },
  {
   "cell_type": "markdown",
   "metadata": {},
   "source": [
    "Create overview about missing data"
   ]
  },
  {
   "cell_type": "code",
   "execution_count": null,
   "metadata": {},
   "outputs": [],
   "source": [
    "import matplotlib.pyplot as plt\n",
    "\n",
    "# Prepare data for visualization\n",
    "columns = merged_df.columns.drop('Datum')  # Exclude the date column\n",
    "dates = pd.to_datetime(merged_df['Datum'])\n",
    "\n",
    "# Create a binary representation for data presence (1 if data is present, 0 otherwise)\n",
    "presence_data = merged_df[columns].notna().astype(int)\n",
    "presence_data['Datum'] = dates\n",
    "\n",
    "# Reshape data for plotting\n",
    "melted_data = presence_data.melt(id_vars='Datum', var_name='Column', value_name='Has Data')\n",
    "\n",
    "# Plotting\n",
    "plt.figure(figsize=(15, 8))\n",
    "for i, column in enumerate(columns):\n",
    "    column_data = melted_data[melted_data['Column'] == column]\n",
    "    plt.scatter(\n",
    "        column_data['Datum'], \n",
    "        [i] * len(column_data), \n",
    "        c=column_data['Has Data'], \n",
    "        cmap='coolwarm', \n",
    "        label=column, \n",
    "        marker='|'\n",
    "    )\n",
    "\n",
    "# Customizing the plot\n",
    "plt.yticks(range(len(columns)), columns)\n",
    "plt.xlabel(\"Date\")\n",
    "plt.ylabel(\"Columns\")\n",
    "plt.title(\"Data Presence Across Columns Over Time\")\n",
    "plt.grid(axis='x', linestyle='--', alpha=0.5)\n",
    "plt.legend(title=\"Columns\", loc='upper left', bbox_to_anchor=(1.05, 1), fontsize='small')\n",
    "plt.tight_layout()\n",
    "plt.show()\n"
   ]
  },
  {
   "cell_type": "markdown",
   "metadata": {},
   "source": [
    "save common data frame"
   ]
  },
  {
   "cell_type": "code",
   "execution_count": 11,
   "metadata": {},
   "outputs": [],
   "source": [
    "# Save the merged dataframe to a CSV file\n",
    "merged_df.to_csv('/workspaces/bakery_sales_prediction/0_DataPreparation/01_merged_data.csv', index=False)"
   ]
  }
 ],
 "metadata": {
  "kernelspec": {
   "display_name": "base",
   "language": "python",
   "name": "python3"
  },
  "language_info": {
   "codemirror_mode": {
    "name": "ipython",
    "version": 3
   },
   "file_extension": ".py",
   "mimetype": "text/x-python",
   "name": "python",
   "nbconvert_exporter": "python",
   "pygments_lexer": "ipython3",
   "version": "3.12.8"
  }
 },
 "nbformat": 4,
 "nbformat_minor": 2
}
