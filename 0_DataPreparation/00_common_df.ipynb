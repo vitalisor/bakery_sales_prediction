{
 "cells": [
  {
   "cell_type": "markdown",
   "metadata": {},
   "source": [
    "Create common Pandas Dataframe with all Data to do further analysis"
   ]
  },
  {
   "cell_type": "code",
   "execution_count": 1,
   "metadata": {},
   "outputs": [],
   "source": [
    "import pandas as pd\n",
    "import numpy as np\n",
    "from datetime import datetime\n",
    "\n",
    "DATA_DIR = \"/workspaces/bakery_sales_prediction/0_DataPreparation/raw-data\""
   ]
  },
  {
   "cell_type": "markdown",
   "metadata": {},
   "source": [
    "## Holidays for SH\n",
    "- Request Holidays from API\n",
    "- Combine single dataframe with the holidays"
   ]
  },
  {
   "cell_type": "code",
   "execution_count": 2,
   "metadata": {},
   "outputs": [],
   "source": [
    "all_holidays = []\n",
    "\n",
    "for year in range(2013, 2020):\n",
    "    holidays = pd.read_json(f'https://feiertage-api.de/api/?jahr={year}&nur_land=SH').T\n",
    "    for holiday_name, row in holidays.iterrows():\n",
    "        all_holidays.append({\n",
    "        'datum': row['datum'],\n",
    "        'holiday_name': holiday_name\n",
    "        })\n",
    "    \n",
    "df_holiday = pd.DataFrame(all_holidays)\n",
    "df_holiday['datum'] = pd.to_datetime(df_holiday['datum'])\n",
    "df_holiday = df_holiday.sort_values('datum')"
   ]
  },
  {
   "cell_type": "code",
   "execution_count": 3,
   "metadata": {},
   "outputs": [],
   "source": [
    "# Load the CSV files\n",
    "# file1 = f'{DATA_DIR}/umsatzdaten_gekuerzt.csv'\n",
    "file2 = f'{DATA_DIR}/wetter.csv'\n",
    "file3 = f'{DATA_DIR}/kiwo.csv'\n",
    "file4 = f'{DATA_DIR}/holidays.school.sh.csv'\n",
    "file5 = f'{DATA_DIR}/holstein_kiel.csv'\n",
    "file6 = f'{DATA_DIR}/thw_kiel_heimspiel.csv'\n",
    "# umsatz = pd.read_csv(file1)\n",
    "wetter = pd.read_csv(file2, parse_dates=['Datum'])\n",
    "kiwo = pd.read_csv(file3, parse_dates=['Datum'])\n",
    "school_holidays = pd.read_csv(file4, sep=\";\", usecols=[\"StartDate\",\"EndDate\",\"Name\"], parse_dates=[\"StartDate\",\"EndDate\"], dtype = {'Name': 'string'})\n",
    "holstein_kiel = pd.read_csv(file5, sep=\";\", index_col=False, parse_dates=['Datum'], usecols=[\"Datum\",\"Heimspiel\"], dayfirst=True)\n",
    "thw_kiel = pd.read_csv(file6, sep=\";\", parse_dates=['Datum'], dayfirst=True)\n",
    "\n",
    "# print(wetter['Wettercode'].value_counts())\n",
    "\n",
    "# print(wetter.info())\n",
    "# print(kiwo.info())\n",
    "# print(school_holidays.info())\n",
    "# print(holstein_kiel.info())\n",
    "# print(thw_kiel.info())\n"
   ]
  },
  {
   "cell_type": "code",
   "execution_count": 4,
   "metadata": {},
   "outputs": [],
   "source": [
    "niederschlag_art_codes = {\n",
    "    # \"Kein Niederschlag\": [0, 1, 2, 3, 5, 10, 13, 17, 20, 21, 22, 25, 26, 28, 29, 43, 45, 47, 49],\n",
    "    \"Regen\": [51, 53, 55, 58, 60, 61, 63, 65, 80, 81, 91],\n",
    "    \"Schnee\": [71, 72, 73, 75, 77, 78, 85],\n",
    "    \"Gemischt\": [68, 69, 79, 95]\n",
    "}\n",
    "\n",
    "niederschlag_art_number = {\n",
    "    \"Regen\": 1,\n",
    "    \"Schnee\": 2,\n",
    "    \"Gemischt\": 3\n",
    "}\n",
    "\n",
    "niederschlag_intensität_codes = {\n",
    "    \"Leicht\": [51, 60, 61, 68, 71, 80, 85],\n",
    "    \"Mittel\": [53, 63, 69, 73, 81],\n",
    "    \"Stark\": [55, 65, 75]    \n",
    "}\n",
    "\n",
    "niederschlag_intensität_number = {\n",
    "    \"Leicht\": 1,\n",
    "    \"Mittel\": 2,\n",
    "    \"Stark\": 3 \n",
    "}\n",
    "\n",
    "gewitter_codes = [91, 95]"
   ]
  },
  {
   "cell_type": "code",
   "execution_count": 5,
   "metadata": {},
   "outputs": [],
   "source": [
    "def kategorisiere_temperatur(temperatur, monat):\n",
    "    if monat in [12, 1, 2]:  # Winter\n",
    "        if temperatur < -2:\n",
    "            return 0\n",
    "        elif -2 <= temperatur <= 5:\n",
    "            return 1\n",
    "        else:\n",
    "            return 2\n",
    "    elif monat in [3, 4, 5, 9, 10, 11]:  # Frühling/Herbst\n",
    "        if temperatur < 8:\n",
    "            return 0\n",
    "        elif 8 <= temperatur <= 15:\n",
    "            return 1\n",
    "        else:\n",
    "            return 2\n",
    "    else:  # Sommer\n",
    "        if temperatur < 16:\n",
    "            return 0\n",
    "        elif 16 <= temperatur <= 22:\n",
    "            return 1\n",
    "        else:\n",
    "            return 2\n",
    "\n",
    "def get_niederschlag_art(code):\n",
    "    for key, values in niederschlag_art_codes.items():\n",
    "        if code in values:\n",
    "            return key\n",
    "    return \"Kein Niederschlag\"\n",
    "\n",
    "def get_niederschlag_intensität(code):\n",
    "    for key, values in niederschlag_intensität_codes.items():\n",
    "        if code in values:\n",
    "            return key\n",
    "    return \"Keine\"\n",
    "\n",
    "def is_gewitter(code):\n",
    "    return 1 if code in gewitter_codes else 0\n",
    "\n",
    "def get_category_number(code, category_dict, number_dict):\n",
    "    # Iterate through the dictionary\n",
    "    for category, codes in category_dict.items():\n",
    "        if code in codes:  # Check if the code exists in the list\n",
    "            return number_dict[category]  # Return the corresponding number\n",
    "    return 0  # Return None if no match is found"
   ]
  },
  {
   "cell_type": "markdown",
   "metadata": {},
   "source": [
    "### Anpassung Wetterdaten"
   ]
  },
  {
   "cell_type": "code",
   "execution_count": 6,
   "metadata": {},
   "outputs": [],
   "source": [
    "train_df = pd.read_csv(f'{DATA_DIR}/train.csv', parse_dates=['Datum'])\n",
    "test_df = pd.read_csv(f'{DATA_DIR}/test.csv', parse_dates=['Datum'])\n",
    "\n",
    "concatenated = pd.concat([train_df, test_df])"
   ]
  },
  {
   "cell_type": "code",
   "execution_count": 7,
   "metadata": {},
   "outputs": [],
   "source": [
    "merged_df = concatenated.copy()\n",
    "\n",
    "merged_df = pd.merge(merged_df, wetter, on='Datum', how='left')\n",
    "\n",
    "merged_df['wochentag'] = merged_df['Datum'].dt.dayofweek\n",
    "merged_df['is_niederschlag'] = merged_df['Wettercode'].apply(lambda x: get_category_number(x, niederschlag_art_codes, niederschlag_art_number))\n",
    "merged_df['niederschlag_intesitaet'] = merged_df['Wettercode'].apply(lambda x: get_category_number(x, niederschlag_intensität_codes, niederschlag_intensität_number))\n",
    "merged_df['is_gewitter'] = merged_df['Wettercode'].apply(lambda x: is_gewitter(x)) \n",
    "merged_df['temperatur_cat'] = merged_df.apply(lambda row: kategorisiere_temperatur(row['Temperatur'], row['Datum'].month), axis=1)\n",
    "merged_df = merged_df.drop(columns=['Wettercode'])"
   ]
  },
  {
   "cell_type": "markdown",
   "metadata": {},
   "source": [
    "Merge data sets"
   ]
  },
  {
   "cell_type": "code",
   "execution_count": null,
   "metadata": {},
   "outputs": [
    {
     "name": "stderr",
     "output_type": "stream",
     "text": [
      "/tmp/ipykernel_101685/3510322726.py:9: FutureWarning: Downcasting object dtype arrays on .fillna, .ffill, .bfill is deprecated and will change in a future version. Call result.infer_objects(copy=False) instead. To opt-in to the future behavior, set `pd.set_option('future.no_silent_downcasting', True)`\n",
      "  merged_df['is_holiday'] = merged_df['is_holiday'].fillna(0)\n"
     ]
    }
   ],
   "source": [
    "# Merge the datasets on the \"Datum\" column\n",
    "merged_df = pd.merge(merged_df, kiwo, on='Datum', how='left')\n",
    "merged_df = merged_df.rename(columns={\"KielerWoche\": \"is_kielerWoche\"})\n",
    "merged_df['is_kielerWoche'] = merged_df['is_kielerWoche'].fillna(0)\n",
    "\n",
    "merged_df = pd.merge(merged_df, df_holiday, left_on='Datum', right_on=\"datum\", how='left')\n",
    "merged_df.drop('datum', axis=1, inplace=True)\n",
    "merged_df['is_holiday'] = np.where(merged_df['holiday_name'].notna(), 1, merged_df['holiday_name'])\n",
    "merged_df['is_holiday'] = merged_df['is_holiday'].fillna(0)\n",
    "\n",
    "merged_df['holiday_name'] = merged_df['holiday_name'].replace(np.nan, 'None')\n",
    "\n",
    "\n",
    "merged_df = pd.merge(merged_df, thw_kiel, on='Datum', how='left')\n",
    "merged_df = merged_df.rename(columns={\"Heimspiel\": \"is_heimspiel_thw\"})\n",
    "merged_df['is_heimspiel_thw'] = merged_df['is_heimspiel_thw'].fillna(0)\n",
    "merged_df = pd.merge(merged_df, holstein_kiel, on='Datum', how='left')\n",
    "merged_df = merged_df.rename(columns={\"Heimspiel\": \"is_heimspiel_holstein\"})\n",
    "merged_df['is_heimspiel_holstein'] = merged_df['is_heimspiel_holstein'].fillna(0)"
   ]
  },
  {
   "cell_type": "code",
   "execution_count": 9,
   "metadata": {},
   "outputs": [
    {
     "name": "stderr",
     "output_type": "stream",
     "text": [
      "<>:2: SyntaxWarning: invalid escape sequence '\\w'\n",
      "<>:2: SyntaxWarning: invalid escape sequence '\\w'\n",
      "/tmp/ipykernel_101685/939914686.py:2: SyntaxWarning: invalid escape sequence '\\w'\n",
      "  school_holidays['Name'] = school_holidays['Name'].str.extract(pat = '(\\w+(?=,EN))')\n"
     ]
    },
    {
     "name": "stdout",
     "output_type": "stream",
     "text": [
      "<class 'pandas.core.frame.DataFrame'>\n",
      "RangeIndex: 11164 entries, 0 to 11163\n",
      "Data columns (total 19 columns):\n",
      " #   Column                   Non-Null Count  Dtype         \n",
      "---  ------                   --------------  -----         \n",
      " 0   id                       11164 non-null  int64         \n",
      " 1   Datum                    11164 non-null  datetime64[ns]\n",
      " 2   Warengruppe              11164 non-null  int64         \n",
      " 3   Umsatz                   9334 non-null   float64       \n",
      " 4   Bewoelkung               11029 non-null  float64       \n",
      " 5   Temperatur               11083 non-null  float64       \n",
      " 6   Windgeschwindigkeit      11083 non-null  float64       \n",
      " 7   wochentag                11164 non-null  int32         \n",
      " 8   is_niederschlag          11164 non-null  int64         \n",
      " 9   niederschlag_intesitaet  11164 non-null  int64         \n",
      " 10  is_gewitter              11164 non-null  int64         \n",
      " 11  temperatur_cat           11164 non-null  int64         \n",
      " 12  is_kielerWoche           11164 non-null  float64       \n",
      " 13  holiday_name             11164 non-null  object        \n",
      " 14  is_holiday               11164 non-null  int64         \n",
      " 15  is_heimspiel_thw         11164 non-null  float64       \n",
      " 16  is_heimspiel_holstein    11164 non-null  float64       \n",
      " 17  is_school_holidays       11164 non-null  bool          \n",
      " 18  school_holiday_name      11164 non-null  object        \n",
      "dtypes: bool(1), datetime64[ns](1), float64(7), int32(1), int64(7), object(2)\n",
      "memory usage: 1.5+ MB\n"
     ]
    }
   ],
   "source": [
    "school_holidays['EndDate'] = school_holidays['EndDate'].fillna(school_holidays['StartDate'])\n",
    "school_holidays['Name'] = school_holidays['Name'].str.extract(pat = '(\\w+(?=,EN))')\n",
    "\n",
    "def check_holiday(date):\n",
    "    holiday = school_holidays[(school_holidays['StartDate'] <= date) & (date <= school_holidays['EndDate'])]\n",
    "    if not holiday.empty:\n",
    "        return True, holiday['Name'].values[0]\n",
    "    else:\n",
    "        return False, 'None'\n",
    "\n",
    "# Apply the function to each row in merged_df\n",
    "merged_df[['is_school_holidays', 'school_holiday_name']] = merged_df['Datum'].apply(check_holiday).tolist()\n",
    "\n",
    "# Convert is_school_holidays to boolean\n",
    "merged_df['is_school_holidays'] = merged_df['is_school_holidays'].astype(bool)\n",
    "\n",
    "merged_df.info()"
   ]
  },
  {
   "cell_type": "code",
   "execution_count": 10,
   "metadata": {},
   "outputs": [],
   "source": [
    "# def abstand_zu_weihnachten(datum):\n",
    "#     if not isinstance(datum, pd.Timestamp):\n",
    "#         datum = pd.to_datetime(datum)\n",
    "#     \n",
    "#     jahr = datum.year\n",
    "#     weihnachten = pd.Timestamp(year=jahr, month=12, day=25)\n",
    "#     dreikoenig = pd.Timestamp(year=jahr+1, month=1, day=6)\n",
    "#     \n",
    "#     if datum <= dreikoenig:\n",
    "#         weihnachten = pd.Timestamp(year=jahr-1, month=12, day=25)\n",
    "#     elif datum > weihnachten:\n",
    "#         weihnachten = pd.Timestamp(year=jahr+1, month=12, day=25)\n",
    "#     \n",
    "#     return abs((datum - weihnachten).days)\n",
    "# \n",
    "# merged_df['Datum'] = pd.to_datetime(merged_df['Datum'])\n",
    "# \n",
    "# # Anwenden der Funktion auf jede Zeile\n",
    "# merged_df['Abstand_zu_Weihnachten'] = merged_df['Datum'].apply(abstand_zu_weihnachten)"
   ]
  },
  {
   "cell_type": "code",
   "execution_count": 11,
   "metadata": {},
   "outputs": [],
   "source": [
    "# merged_train_df = pd.merge(train_df, merged_df, on='Datum', how='left')\n",
    "# \n",
    "# merged_train_df['is_niederschlag'] = merged_train_df['is_niederschlag'].astype(bool)\n",
    "# merged_train_df['is_gewitter'] = merged_train_df['is_gewitter'].astype(bool)\n",
    "# merged_train_df['is_kielerWoche'] = merged_train_df['is_kielerWoche'].astype(bool)\n",
    "# merged_train_df['is_holiday'] = merged_train_df['is_holiday'].astype(bool)\n",
    "# merged_train_df['is_heimspiel_thw'] = merged_train_df['is_heimspiel_thw'].astype(bool)\n",
    "# merged_train_df['is_heimspiel_holstein'] = merged_train_df['is_heimspiel_holstein'].astype(bool)\n",
    "# merged_train_df['is_school_holidays'] = merged_train_df['is_school_holidays'].astype(bool)\n",
    "# \n",
    "# merged_train_df['Bewoelkung'] = merged_train_df['Bewoelkung'].astype(int)\n",
    "# merged_train_df['wochentag'] = merged_train_df['wochentag'].astype(int)\n",
    "# merged_train_df['niederschlag_intesitaet'] = merged_train_df['niederschlag_intesitaet'].astype(int)\n",
    "# merged_train_df['temperatur_cat'] = merged_train_df['temperatur_cat'].astype(int)\n",
    "# merged_train_df['wochentag'] = merged_train_df['wochentag'].astype(int)\n",
    "# \n",
    "# merged_train_df['holiday_name'] = merged_train_df['holiday_name'].astype(str)\n",
    "# merged_train_df['school_holiday_name'] = merged_train_df['school_holiday_name'].astype(str)\n",
    "# \n",
    "# merged_train_df()"
   ]
  },
  {
   "cell_type": "markdown",
   "metadata": {},
   "source": [
    "Create overview about missing data"
   ]
  },
  {
   "cell_type": "code",
   "execution_count": null,
   "metadata": {},
   "outputs": [],
   "source": [
    "import matplotlib.pyplot as plt\n",
    "\n",
    "# Prepare data for visualization\n",
    "columns = merged_df.columns.drop('Datum')  # Exclude the date column\n",
    "dates = pd.to_datetime(merged_df['Datum'])\n",
    "\n",
    "# Create a binary representation for data presence (1 if data is present, 0 otherwise)\n",
    "presence_data = merged_df[columns].notna().astype(int)\n",
    "presence_data['Datum'] = dates\n",
    "\n",
    "# Reshape data for plotting\n",
    "melted_data = presence_data.melt(id_vars='Datum', var_name='Column', value_name='Has Data')\n",
    "\n",
    "# Plotting\n",
    "plt.figure(figsize=(15, 8))\n",
    "for i, column in enumerate(columns):\n",
    "    column_data = melted_data[melted_data['Column'] == column]\n",
    "    plt.scatter(\n",
    "        column_data['Datum'], \n",
    "        [i] * len(column_data), \n",
    "        c=column_data['Has Data'], \n",
    "        cmap='coolwarm', \n",
    "        label=column, \n",
    "        marker='|'\n",
    "    )\n",
    "\n",
    "# Customizing the plot\n",
    "plt.yticks(range(len(columns)), columns)\n",
    "plt.xlabel(\"Date\")\n",
    "plt.ylabel(\"Columns\")\n",
    "plt.title(\"Data Presence Across Columns Over Time\")\n",
    "plt.grid(axis='x', linestyle='--', alpha=0.5)\n",
    "plt.legend(title=\"Columns\", loc='upper left', bbox_to_anchor=(1.05, 1), fontsize='small')\n",
    "plt.tight_layout()\n",
    "plt.show()\n"
   ]
  },
  {
   "cell_type": "markdown",
   "metadata": {},
   "source": [
    "save common data frame"
   ]
  },
  {
   "cell_type": "code",
   "execution_count": 12,
   "metadata": {},
   "outputs": [
    {
     "name": "stdout",
     "output_type": "stream",
     "text": [
      "<class 'pandas.core.frame.DataFrame'>\n",
      "RangeIndex: 11164 entries, 0 to 11163\n",
      "Data columns (total 19 columns):\n",
      " #   Column                   Non-Null Count  Dtype         \n",
      "---  ------                   --------------  -----         \n",
      " 0   id                       11164 non-null  int64         \n",
      " 1   Datum                    11164 non-null  datetime64[ns]\n",
      " 2   Warengruppe              11164 non-null  int64         \n",
      " 3   Umsatz                   9334 non-null   float64       \n",
      " 4   Bewoelkung               11029 non-null  float64       \n",
      " 5   Temperatur               11083 non-null  float64       \n",
      " 6   Windgeschwindigkeit      11083 non-null  float64       \n",
      " 7   wochentag                11164 non-null  int32         \n",
      " 8   is_niederschlag          11164 non-null  int64         \n",
      " 9   niederschlag_intesitaet  11164 non-null  int64         \n",
      " 10  is_gewitter              11164 non-null  int64         \n",
      " 11  temperatur_cat           11164 non-null  int64         \n",
      " 12  is_kielerWoche           11164 non-null  float64       \n",
      " 13  holiday_name             11164 non-null  object        \n",
      " 14  is_holiday               11164 non-null  int64         \n",
      " 15  is_heimspiel_thw         11164 non-null  float64       \n",
      " 16  is_heimspiel_holstein    11164 non-null  float64       \n",
      " 17  is_school_holidays       11164 non-null  bool          \n",
      " 18  school_holiday_name      11164 non-null  object        \n",
      "dtypes: bool(1), datetime64[ns](1), float64(7), int32(1), int64(7), object(2)\n",
      "memory usage: 1.5+ MB\n",
      "None\n",
      "        id      Datum  Warengruppe      Umsatz  Bewoelkung  Temperatur  \\\n",
      "0  1307011 2013-07-01            1  148.828353         6.0     17.8375   \n",
      "1  1307021 2013-07-02            1  159.793757         3.0     17.3125   \n",
      "2  1307031 2013-07-03            1  111.885594         7.0     21.0750   \n",
      "3  1307041 2013-07-04            1  168.864941         7.0     18.8500   \n",
      "4  1307051 2013-07-05            1  171.280754         5.0     19.9750   \n",
      "\n",
      "   Windgeschwindigkeit  wochentag  is_niederschlag  niederschlag_intesitaet  \\\n",
      "0                 15.0          0                0                        0   \n",
      "1                 10.0          1                0                        0   \n",
      "2                  6.0          2                1                        1   \n",
      "3                  7.0          3                0                        0   \n",
      "4                 12.0          4                0                        0   \n",
      "\n",
      "   is_gewitter  temperatur_cat  is_kielerWoche holiday_name  is_holiday  \\\n",
      "0            0               1             0.0         None           0   \n",
      "1            0               1             0.0         None           0   \n",
      "2            0               1             0.0         None           0   \n",
      "3            0               1             0.0         None           0   \n",
      "4            0               1             0.0         None           0   \n",
      "\n",
      "   is_heimspiel_thw  is_heimspiel_holstein  is_school_holidays  \\\n",
      "0               0.0                    0.0                True   \n",
      "1               0.0                    0.0                True   \n",
      "2               0.0                    0.0                True   \n",
      "3               0.0                    0.0                True   \n",
      "4               0.0                    0.0                True   \n",
      "\n",
      "  school_holiday_name  \n",
      "0        Sommerferien  \n",
      "1        Sommerferien  \n",
      "2        Sommerferien  \n",
      "3        Sommerferien  \n",
      "4        Sommerferien  \n"
     ]
    }
   ],
   "source": [
    "# Save the merged dataframe to a CSV file\n",
    "# now = datetime.now()\n",
    "save_path = f'/workspaces/bakery_sales_prediction/0_DataPreparation/01_merged_data.csv'\n",
    "merged_df.to_csv(save_path, index=False)\n",
    "\n",
    "print(merged_df.info())\n",
    "print(merged_df.head())"
   ]
  }
 ],
 "metadata": {
  "kernelspec": {
   "display_name": "base",
   "language": "python",
   "name": "python3"
  },
  "language_info": {
   "codemirror_mode": {
    "name": "ipython",
    "version": 3
   },
   "file_extension": ".py",
   "mimetype": "text/x-python",
   "name": "python",
   "nbconvert_exporter": "python",
   "pygments_lexer": "ipython3",
   "version": "3.12.8"
  }
 },
 "nbformat": 4,
 "nbformat_minor": 2
}
