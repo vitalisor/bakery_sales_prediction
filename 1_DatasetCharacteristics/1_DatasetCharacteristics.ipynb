{
 "cells": [
  {
   "cell_type": "markdown",
   "metadata": {},
   "source": [
    "Create overview about missing data"
   ]
  },
  {
   "cell_type": "code",
   "execution_count": null,
   "metadata": {
    "vscode": {
     "languageId": "plaintext"
    }
   },
   "outputs": [],
   "source": [
    "import matplotlib.pyplot as plt\n",
    "\n",
    "# Prepare data for visualization\n",
    "columns = merged_df.columns.drop('Datum')  # Exclude the date column\n",
    "dates = pd.to_datetime(merged_df['Datum'])\n",
    "\n",
    "# Create a binary representation for data presence (1 if data is present, 0 otherwise)\n",
    "presence_data = merged_df[columns].notna().astype(int)\n",
    "presence_data['Datum'] = dates\n",
    "\n",
    "# Reshape data for plotting\n",
    "melted_data = presence_data.melt(id_vars='Datum', var_name='Column', value_name='Has Data')\n",
    "\n",
    "# Plotting\n",
    "plt.figure(figsize=(15, 8))\n",
    "for i, column in enumerate(columns):\n",
    "    column_data = melted_data[melted_data['Column'] == column]\n",
    "    plt.scatter(\n",
    "        column_data['Datum'], \n",
    "        [i] * len(column_data), \n",
    "        c=column_data['Has Data'], \n",
    "        cmap='coolwarm', \n",
    "        label=column, \n",
    "        marker='|'\n",
    "    )\n",
    "\n",
    "# Customizing the plot\n",
    "plt.yticks(range(len(columns)), columns)\n",
    "plt.xlabel(\"Date\")\n",
    "plt.ylabel(\"Columns\")\n",
    "plt.title(\"Data Presence Across Columns Over Time\")\n",
    "plt.grid(axis='x', linestyle='--', alpha=0.5)\n",
    "plt.legend(title=\"Columns\", loc='upper left', bbox_to_anchor=(1.05, 1), fontsize='small')\n",
    "plt.tight_layout()\n",
    "plt.show()\n"
   ]
  }
 ],
 "metadata": {
  "language_info": {
   "name": "python"
  }
 },
 "nbformat": 4,
 "nbformat_minor": 2
}
