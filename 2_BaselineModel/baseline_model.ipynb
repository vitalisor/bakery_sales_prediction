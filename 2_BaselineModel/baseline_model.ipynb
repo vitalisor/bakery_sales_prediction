{
 "cells": [
  {
   "cell_type": "code",
   "execution_count": null,
   "metadata": {},
   "outputs": [
    {
     "name": "stdout",
     "output_type": "stream",
     "text": [
      "Modellbewertung:\n",
      "Trainingsdatensatz - MSE: 7629.32, R²: 0.65\n",
      "Testdatensatz - MSE: 6669.39, R²: 0.61\n",
      "Lineare Modellgleichung:\n",
      "Umsatz = 121.34 + 289.26*Warengruppe_2.0 + 42.81*Warengruppe_3.0 + -33.01*Warengruppe_4.0 + 159.55*Warengruppe_5.0 + -54.36*Warengruppe_6.0\n"
     ]
    }
   ],
   "source": [
    "import pandas as pd\n",
    "from sklearn.linear_model import LinearRegression\n",
    "from sklearn.metrics import mean_squared_error, r2_score\n",
    "\n",
    "# Daten laden\n",
    "df = pd.read_csv(\"/workspaces/codespaces-jupyter/merged_data.csv\")\n",
    "\n",
    "# Datum in datetime umwandeln\n",
    "df['Datum'] = pd.to_datetime(df['Datum'])\n",
    "\n",
    "# Fehlende Werte in Warengruppe entfernen\n",
    "df = df.dropna(subset=[\"Warengruppe\", \"Umsatz\"])\n",
    "\n",
    "# One-Hot-Encoding für Warengruppe\n",
    "df_encoded = pd.get_dummies(df, columns=[\"Warengruppe\"], drop_first=True)\n",
    "\n",
    "# Datensatz aufteilen nach Datum\n",
    "train_data = df_encoded[df_encoded['Datum'] < \"2017-08-01\"]\n",
    "test_data = df_encoded[(df_encoded['Datum'] >= \"2017-08-01\") & (df_encoded['Datum'] <= \"2018-07-31\")]\n",
    "\n",
    "# Features definieren (nur Warengruppe-Features)\n",
    "features = [col for col in df_encoded.columns if col.startswith(\"Warengruppe_\")]\n",
    "X_train = train_data[features]\n",
    "y_train = train_data[\"Umsatz\"]\n",
    "X_test = test_data[features]\n",
    "y_test = test_data[\"Umsatz\"]\n",
    "\n",
    "# Lineares Regressionsmodell trainieren\n",
    "model = LinearRegression()\n",
    "model.fit(X_train, y_train)\n",
    "\n",
    "# Vorhersagen machen\n",
    "y_train_pred = model.predict(X_train)\n",
    "y_test_pred = model.predict(X_test)\n",
    "\n",
    "# Modellbewertung\n",
    "train_mse = mean_squared_error(y_train, y_train_pred)\n",
    "test_mse = mean_squared_error(y_test, y_test_pred)\n",
    "train_r2 = r2_score(y_train, y_train_pred)\n",
    "test_r2 = r2_score(y_test, y_test_pred)\n",
    "\n",
    "# Adjustierter R² berechnen\n",
    "def adjusted_r2(r2, n, k):\n",
    "    return 1 - (1 - r2) * ((n - 1) / (n - k - 1))\n",
    "\n",
    "train_adjusted_r2 = adjusted_r2(train_r2, X_train.shape[0], X_train.shape[1])\n",
    "test_adjusted_r2 = adjusted_r2(test_r2, X_test.shape[0], X_test.shape[1])\n",
    "\n",
    "# Ergebnisse ausgeben\n",
    "print(\"Modellbewertung:\")\n",
    "print(f\"Trainingsdatensatz - MSE: {train_mse:.2f}, R²: {train_r2:.2f}, Adjustierter R²: {train_adjusted_r2:.2f}\")\n",
    "print(f\"Testdatensatz - MSE: {test_mse:.2f}, R²: {test_r2:.2f}, Adjustierter R²: {test_adjusted_r2:.2f}\")\n",
    "\n",
    "# Modellgleichung\n",
    "coefficients = model.coef_\n",
    "intercept = model.intercept_\n",
    "\n",
    "print(\"Lineare Modellgleichung:\")\n",
    "print(f\"Umsatz = {intercept:.2f} + \" + \" + \".join([f\"{coeff:.2f}*{feat}\" for coeff, feat in zip(coefficients, features)]))\n"
   ]
  }
 ],
 "metadata": {
  "kernelspec": {
   "display_name": "Python 3",
   "language": "python",
   "name": "python3"
  },
  "language_info": {
   "codemirror_mode": {
    "name": "ipython",
    "version": 3
   },
   "file_extension": ".py",
   "mimetype": "text/x-python",
   "name": "python",
   "nbconvert_exporter": "python",
   "pygments_lexer": "ipython3",
   "version": "3.12.1"
  }
 },
 "nbformat": 4,
 "nbformat_minor": 2
}
